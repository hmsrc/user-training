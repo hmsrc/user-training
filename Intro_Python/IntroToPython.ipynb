{
 "cells": [
  {
   "cell_type": "markdown",
   "id": "ab75a0a1",
   "metadata": {
    "slideshow": {
     "slide_type": "skip"
    }
   },
   "source": [
    "# This is a training supplement for HMS-RC Intro to Python Training\n",
    "\n",
    "- The most recent default version can be found at [https://github.com/hmsrc/user-training](https://github.com/hmsrc/user-training)\n",
    "\n",
    "- This notebook is configured to run with the virtual env found at `/n/groups/rc-training/python/2022/trainingenv` on O2"
   ]
  },
  {
   "cell_type": "markdown",
   "id": "f21f12ab",
   "metadata": {
    "slideshow": {
     "slide_type": "slide"
    }
   },
   "source": [
    "# Let's Learn Python!"
   ]
  },
  {
   "cell_type": "markdown",
   "id": "cabaf466",
   "metadata": {
    "slideshow": {
     "slide_type": "slide"
    }
   },
   "source": [
    "# Basic Syntax\n",
    "\n",
    "- Statements are terminated by newlines (e.g. enter key)\n",
    "- Examples:"
   ]
  },
  {
   "cell_type": "code",
   "execution_count": null,
   "id": "9b6e2a11",
   "metadata": {
    "slideshow": {
     "slide_type": "fragment"
    }
   },
   "outputs": [],
   "source": [
    "a = 1\n",
    "print(a)"
   ]
  },
  {
   "cell_type": "code",
   "execution_count": null,
   "id": "d7925242",
   "metadata": {
    "slideshow": {
     "slide_type": "fragment"
    }
   },
   "outputs": [],
   "source": [
    "print(\"hello world\")"
   ]
  },
  {
   "cell_type": "markdown",
   "id": "1f5a5850",
   "metadata": {
    "slideshow": {
     "slide_type": "slide"
    }
   },
   "source": [
    "# Nuances: Quotations\n",
    "\n",
    "- In general, double and single quotes are interchangable, both for printing and argument passing"
   ]
  },
  {
   "cell_type": "code",
   "execution_count": null,
   "id": "dc440321",
   "metadata": {
    "slideshow": {
     "slide_type": "fragment"
    }
   },
   "outputs": [],
   "source": [
    "print(\"hello world\")\n",
    "print('hello world')"
   ]
  },
  {
   "cell_type": "code",
   "execution_count": null,
   "id": "25a1d5a0",
   "metadata": {
    "slideshow": {
     "slide_type": "fragment"
    }
   },
   "outputs": [],
   "source": [
    "str1 = 'abcdefg'\n",
    "str2 = \"abcdefg\"\n",
    "\n",
    "print(str1)\n",
    "print(str2)"
   ]
  },
  {
   "cell_type": "code",
   "execution_count": null,
   "id": "96513b11",
   "metadata": {
    "slideshow": {
     "slide_type": "fragment"
    }
   },
   "outputs": [],
   "source": [
    "str1 == str2"
   ]
  },
  {
   "cell_type": "markdown",
   "id": "7582170f",
   "metadata": {
    "slideshow": {
     "slide_type": "slide"
    }
   },
   "source": [
    "# Nuances: Escaped Characters\n",
    "\n",
    "- Sometimes, you'll need to escape (backslash) certain special characters to get them to display correctly when printing. For example, if you want to preserve double quotations in your string:"
   ]
  },
  {
   "cell_type": "code",
   "execution_count": null,
   "id": "6c452da0",
   "metadata": {
    "slideshow": {
     "slide_type": "fragment"
    }
   },
   "outputs": [],
   "source": [
    "print(\"\"hello world\"\")"
   ]
  },
  {
   "cell_type": "code",
   "execution_count": null,
   "id": "77ca42cf",
   "metadata": {
    "slideshow": {
     "slide_type": "fragment"
    }
   },
   "outputs": [],
   "source": [
    "print(\"\\\"hello world\\\"\")"
   ]
  },
  {
   "cell_type": "markdown",
   "id": "7c8e4848",
   "metadata": {
    "slideshow": {
     "slide_type": "fragment"
    }
   },
   "source": [
    "- A list of escape characters can be found in [Python documentation](https://docs.python.org/3/reference/lexical_analysis.html#literals) and elsewhere on the internet"
   ]
  },
  {
   "cell_type": "markdown",
   "id": "2cdb7f29",
   "metadata": {
    "slideshow": {
     "slide_type": "slide"
    }
   },
   "source": [
    "# Comments\n",
    "\n",
    "- Comments are used to make code more legible. In python, they are denoted with the octothorpe."
   ]
  },
  {
   "cell_type": "code",
   "execution_count": null,
   "id": "73e47ea9",
   "metadata": {
    "slideshow": {
     "slide_type": "fragment"
    }
   },
   "outputs": [],
   "source": [
    "# python will ignore this line\n",
    "b = 2\n",
    "print(b)\n",
    "c = 3 #python will assign 'c = 3'\n",
    "print(c)\n",
    "d = 4 #python ignores everything after the pound, including: e = 5\n",
    "print(d)\n",
    "print(e)"
   ]
  },
  {
   "cell_type": "markdown",
   "id": "2f47d849",
   "metadata": {
    "slideshow": {
     "slide_type": "subslide"
    }
   },
   "source": [
    "- Multi-line comments can either be manually be broken down, or held in a docstring with triple quotes:"
   ]
  },
  {
   "cell_type": "code",
   "execution_count": null,
   "id": "3150d88a",
   "metadata": {
    "slideshow": {
     "slide_type": "fragment"
    }
   },
   "outputs": [],
   "source": [
    "\"\"\"\n",
    "this is a\n",
    "multi-line comment\n",
    "\"\"\"\n",
    "\n",
    "print(\"Does my multi-line comment print out?\")"
   ]
  },
  {
   "cell_type": "markdown",
   "id": "6db7b35b",
   "metadata": {
    "slideshow": {
     "slide_type": "slide"
    }
   },
   "source": [
    "# Basic Features\n",
    "- Data Structures, Looping, etc."
   ]
  },
  {
   "cell_type": "markdown",
   "id": "1e7d6d48",
   "metadata": {
    "slideshow": {
     "slide_type": "slide"
    }
   },
   "source": [
    "# Data Types\n",
    "\n",
    "- Python is dynamically typed; there is no need to declare (e.g. int n = num). You can also reassign:"
   ]
  },
  {
   "cell_type": "code",
   "execution_count": null,
   "id": "a0ccde0a",
   "metadata": {
    "slideshow": {
     "slide_type": "fragment"
    }
   },
   "outputs": [],
   "source": [
    "number = 1\n",
    "print(number)"
   ]
  },
  {
   "cell_type": "code",
   "execution_count": null,
   "id": "8f40f7b3",
   "metadata": {
    "slideshow": {
     "slide_type": "fragment"
    }
   },
   "outputs": [],
   "source": [
    "number = 2\n",
    "print(number)"
   ]
  },
  {
   "cell_type": "code",
   "execution_count": null,
   "id": "ff3f254c",
   "metadata": {
    "slideshow": {
     "slide_type": "fragment"
    }
   },
   "outputs": [],
   "source": [
    "str3 = 'abc'\n",
    "print(str3)"
   ]
  },
  {
   "cell_type": "code",
   "execution_count": null,
   "id": "444571fb",
   "metadata": {
    "slideshow": {
     "slide_type": "fragment"
    }
   },
   "outputs": [],
   "source": [
    "str3 = 'def'\n",
    "print(str3)"
   ]
  },
  {
   "cell_type": "code",
   "execution_count": null,
   "id": "fe7d52aa",
   "metadata": {
    "slideshow": {
     "slide_type": "fragment"
    }
   },
   "outputs": [],
   "source": [
    "str3 = 1\n",
    "print(str3)"
   ]
  },
  {
   "cell_type": "markdown",
   "id": "3947259d",
   "metadata": {
    "slideshow": {
     "slide_type": "slide"
    }
   },
   "source": [
    "# Data Types, an aside\n",
    "\n",
    "- However, strings (and some other stuff like tuples) are not *mutable*; you cannot modify its content. When you reassign the variable as seen previously, you're actually generating a new object. You can't modify the original object:"
   ]
  },
  {
   "cell_type": "code",
   "execution_count": null,
   "id": "1c6067ee",
   "metadata": {
    "slideshow": {
     "slide_type": "fragment"
    }
   },
   "outputs": [],
   "source": [
    "s = \"abc\"\n",
    "print(s[0])"
   ]
  },
  {
   "cell_type": "code",
   "execution_count": null,
   "id": "73b07883",
   "metadata": {
    "slideshow": {
     "slide_type": "fragment"
    }
   },
   "outputs": [],
   "source": [
    "s[0] = \"o\""
   ]
  },
  {
   "cell_type": "markdown",
   "id": "e33c0e20",
   "metadata": {
    "slideshow": {
     "slide_type": "fragment"
    }
   },
   "source": [
    "- The above example was shamelessly lifted off [Stack Overflow](http://stackoverflow.com/questions/8056130/immutable-vs-mutable-types-python)"
   ]
  },
  {
   "cell_type": "markdown",
   "id": "d867e473",
   "metadata": {
    "slideshow": {
     "slide_type": "slide"
    }
   },
   "source": [
    "# Back to data types\n",
    "\n",
    "- Like most languages, Python has higher level data structures. Of note are lists (arrays) and dictionaries. Relatedly, there are also tuples and sets. Each structure fills different niches."
   ]
  },
  {
   "cell_type": "markdown",
   "id": "4c7edf4c",
   "metadata": {
    "slideshow": {
     "slide_type": "slide"
    }
   },
   "source": [
    "# Lists\n",
    "\n",
    "- Lists are the most versatile; they are the effective equivalent of arrays in other languages. They are ordered, and you can fetch specific indices. You can mix and match types, have duplicates, nest lists, etc."
   ]
  },
  {
   "cell_type": "markdown",
   "id": "3f885045",
   "metadata": {
    "slideshow": {
     "slide_type": "subslide"
    }
   },
   "source": [
    "To generate a list:"
   ]
  },
  {
   "cell_type": "code",
   "execution_count": null,
   "id": "5c79b154",
   "metadata": {
    "slideshow": {
     "slide_type": "fragment"
    }
   },
   "outputs": [],
   "source": [
    "lst = [] #initialize a list of indeterminate size\n",
    "lst.append('a')\n",
    "print(lst)"
   ]
  },
  {
   "cell_type": "code",
   "execution_count": null,
   "id": "df70e090",
   "metadata": {
    "slideshow": {
     "slide_type": "fragment"
    }
   },
   "outputs": [],
   "source": [
    "lst.extend(['b', 'c'])\n",
    "print(lst)"
   ]
  },
  {
   "cell_type": "code",
   "execution_count": null,
   "id": "8c1d42fc",
   "metadata": {
    "slideshow": {
     "slide_type": "fragment"
    }
   },
   "outputs": [],
   "source": [
    "lst2 = [None]*5 #initialize a list of predetermined size (an array)\n",
    "print(lst2)"
   ]
  },
  {
   "cell_type": "code",
   "execution_count": null,
   "id": "8af8b20b",
   "metadata": {
    "slideshow": {
     "slide_type": "fragment"
    }
   },
   "outputs": [],
   "source": [
    "lst2[1] = 'foo'\n",
    "print(lst2[1])\n",
    "print(lst2)"
   ]
  },
  {
   "cell_type": "markdown",
   "id": "d110ade3",
   "metadata": {
    "slideshow": {
     "slide_type": "slide"
    }
   },
   "source": [
    "# Lists, cont."
   ]
  },
  {
   "cell_type": "code",
   "execution_count": null,
   "id": "accac520",
   "metadata": {
    "slideshow": {
     "slide_type": "fragment"
    }
   },
   "outputs": [],
   "source": [
    "lst.insert(2, 'new_element')\n",
    "print(lst)"
   ]
  },
  {
   "cell_type": "code",
   "execution_count": null,
   "id": "0a9bf815",
   "metadata": {
    "slideshow": {
     "slide_type": "fragment"
    }
   },
   "outputs": [],
   "source": [
    "lst.pop(2)\n",
    "print(lst)"
   ]
  },
  {
   "cell_type": "code",
   "execution_count": null,
   "id": "e1a586df",
   "metadata": {
    "slideshow": {
     "slide_type": "fragment"
    }
   },
   "outputs": [],
   "source": [
    "lst.pop()\n",
    "print(lst)"
   ]
  },
  {
   "cell_type": "markdown",
   "id": "9f9f483e",
   "metadata": {
    "slideshow": {
     "slide_type": "slide"
    }
   },
   "source": [
    "# Basic List Manipulations\n",
    "\n",
    "- lists are zero-indexed (count from 0), and you can reference positions like so:\n"
   ]
  },
  {
   "cell_type": "code",
   "execution_count": null,
   "id": "4e747c54",
   "metadata": {
    "slideshow": {
     "slide_type": "fragment"
    }
   },
   "outputs": [],
   "source": [
    "lst = [1, 2, 3, 4, 5]\n",
    "print(lst[1])"
   ]
  },
  {
   "cell_type": "code",
   "execution_count": null,
   "id": "7f0f9942",
   "metadata": {
    "slideshow": {
     "slide_type": "fragment"
    }
   },
   "outputs": [],
   "source": [
    "print(lst[1:])"
   ]
  },
  {
   "cell_type": "code",
   "execution_count": null,
   "id": "5b766e87",
   "metadata": {
    "slideshow": {
     "slide_type": "fragment"
    }
   },
   "outputs": [],
   "source": [
    "print(lst[1:3])"
   ]
  },
  {
   "cell_type": "code",
   "execution_count": null,
   "id": "28f94ec6",
   "metadata": {
    "slideshow": {
     "slide_type": "fragment"
    }
   },
   "outputs": [],
   "source": [
    "print(lst[:3])"
   ]
  },
  {
   "cell_type": "code",
   "execution_count": null,
   "id": "5fa193d5",
   "metadata": {
    "slideshow": {
     "slide_type": "fragment"
    }
   },
   "outputs": [],
   "source": [
    "print(lst[1::2])"
   ]
  },
  {
   "cell_type": "code",
   "execution_count": null,
   "id": "9f32776a",
   "metadata": {
    "slideshow": {
     "slide_type": "fragment"
    }
   },
   "outputs": [],
   "source": [
    "print(lst[-1])"
   ]
  },
  {
   "cell_type": "code",
   "execution_count": null,
   "id": "e0db51b6",
   "metadata": {
    "slideshow": {
     "slide_type": "fragment"
    }
   },
   "outputs": [],
   "source": [
    "lst2 = [1, 2, 3, [4, 5]]\n",
    "print(lst2[3][1])"
   ]
  },
  {
   "cell_type": "markdown",
   "id": "1b299991",
   "metadata": {
    "slideshow": {
     "slide_type": "slide"
    }
   },
   "source": [
    "# Sets\n",
    "\n",
    "- Sets are lists that do not allow duplicates. Sets are useful if you need to take unions, intersections, etc. "
   ]
  },
  {
   "cell_type": "markdown",
   "id": "3db095da",
   "metadata": {
    "slideshow": {
     "slide_type": "subslide"
    }
   },
   "source": [
    "To generate sets:"
   ]
  },
  {
   "cell_type": "code",
   "execution_count": null,
   "id": "e14ba786",
   "metadata": {
    "slideshow": {
     "slide_type": "fragment"
    }
   },
   "outputs": [],
   "source": [
    "st = set(lst)\n",
    "print(st)"
   ]
  },
  {
   "cell_type": "code",
   "execution_count": null,
   "id": "6d79bfd1",
   "metadata": {
    "slideshow": {
     "slide_type": "fragment"
    }
   },
   "outputs": [],
   "source": [
    "lst3 = [1, 1, 2, 3, 4, 4]\n",
    "st2 = set(lst3)\n",
    "print(st2)"
   ]
  },
  {
   "cell_type": "code",
   "execution_count": null,
   "id": "07c80378",
   "metadata": {
    "slideshow": {
     "slide_type": "fragment"
    }
   },
   "outputs": [],
   "source": [
    "st3 = {1, 2, 3}\n",
    "print(st3)"
   ]
  },
  {
   "cell_type": "markdown",
   "id": "9d745452",
   "metadata": {
    "slideshow": {
     "slide_type": "slide"
    }
   },
   "source": [
    "# Sample Set Operations"
   ]
  },
  {
   "cell_type": "markdown",
   "id": "de856a40",
   "metadata": {
    "slideshow": {
     "slide_type": "subslide"
    }
   },
   "source": [
    "- Here are some elementary operations you can perform with sets:"
   ]
  },
  {
   "cell_type": "code",
   "execution_count": null,
   "id": "cee3f817",
   "metadata": {
    "slideshow": {
     "slide_type": "fragment"
    }
   },
   "outputs": [],
   "source": [
    "set1 = {1, 2, 3}\n",
    "set2 = {3, 4, 5}\n",
    "print(set1 | set2)"
   ]
  },
  {
   "cell_type": "code",
   "execution_count": null,
   "id": "f71b4913",
   "metadata": {
    "slideshow": {
     "slide_type": "fragment"
    }
   },
   "outputs": [],
   "source": [
    "print(set1 & set2)"
   ]
  },
  {
   "cell_type": "code",
   "execution_count": null,
   "id": "ac6876c5",
   "metadata": {
    "slideshow": {
     "slide_type": "fragment"
    }
   },
   "outputs": [],
   "source": [
    "print(set1 - set2)"
   ]
  },
  {
   "cell_type": "code",
   "execution_count": null,
   "id": "5c0d28b4",
   "metadata": {
    "slideshow": {
     "slide_type": "fragment"
    }
   },
   "outputs": [],
   "source": [
    "print(set2 - set1)"
   ]
  },
  {
   "cell_type": "code",
   "execution_count": null,
   "id": "2856956d",
   "metadata": {
    "slideshow": {
     "slide_type": "fragment"
    }
   },
   "outputs": [],
   "source": [
    "print(set1 ^ set2)"
   ]
  },
  {
   "cell_type": "code",
   "execution_count": null,
   "id": "3b615873",
   "metadata": {
    "slideshow": {
     "slide_type": "fragment"
    }
   },
   "outputs": [],
   "source": [
    "print(set2 ^ set1)"
   ]
  },
  {
   "cell_type": "markdown",
   "id": "c65816b5",
   "metadata": {
    "slideshow": {
     "slide_type": "fragment"
    }
   },
   "source": [
    "- More information can be found in the [documentation](https://docs.python.org/3/library/stdtypes.html?highlight=sets#set-types-set-frozenset)."
   ]
  },
  {
   "cell_type": "markdown",
   "id": "73dd0d71",
   "metadata": {
    "slideshow": {
     "slide_type": "slide"
    }
   },
   "source": [
    "## Tuples\n",
    "\n",
    "Tuples are lists, but immutable. Once created, they cannot be modified. If you know the size of your data structure, tuples are preferred over lists because Python will know exactly how much memory to allocate."
   ]
  },
  {
   "cell_type": "markdown",
   "id": "6ccd26e7",
   "metadata": {
    "slideshow": {
     "slide_type": "subslide"
    }
   },
   "source": [
    "To create tuples:"
   ]
  },
  {
   "cell_type": "code",
   "execution_count": null,
   "id": "ba4f1760",
   "metadata": {
    "slideshow": {
     "slide_type": "fragment"
    },
    "tags": [
     "#35"
    ]
   },
   "outputs": [],
   "source": [
    "empty_tuple=()\n",
    "print(empty_tuple)"
   ]
  },
  {
   "cell_type": "code",
   "execution_count": null,
   "id": "c4f152f8",
   "metadata": {
    "slideshow": {
     "slide_type": "fragment"
    },
    "tags": [
     "#35"
    ]
   },
   "outputs": [],
   "source": [
    "one_element = 1,\n",
    "print(one_element)"
   ]
  },
  {
   "cell_type": "code",
   "execution_count": null,
   "id": "2e344f7e",
   "metadata": {
    "slideshow": {
     "slide_type": "fragment"
    },
    "tags": [
     "#35"
    ]
   },
   "outputs": [],
   "source": [
    "mixed_tuple = (1, 'a', [1, 'a'])\n",
    "print(mixed_tuple)"
   ]
  },
  {
   "cell_type": "code",
   "execution_count": null,
   "id": "ff70530b",
   "metadata": {
    "slideshow": {
     "slide_type": "fragment"
    },
    "tags": [
     "#35"
    ]
   },
   "outputs": [],
   "source": [
    "lst = [1, 2, 3]\n",
    "tuple_from_list = tuple(lst)\n",
    "print(tuple_from_list)"
   ]
  },
  {
   "cell_type": "markdown",
   "id": "203712a4",
   "metadata": {
    "slideshow": {
     "slide_type": "slide"
    },
    "tags": [
     "#36"
    ]
   },
   "source": [
    "## Dictionaries\n",
    "\n",
    "Dictionaries are associative collections (maps). They are composed of key:value pairs (most of the time). \n"
   ]
  },
  {
   "cell_type": "markdown",
   "id": "3ca698e7",
   "metadata": {
    "slideshow": {
     "slide_type": "subslide"
    }
   },
   "source": [
    "To create a dictionary:"
   ]
  },
  {
   "cell_type": "code",
   "execution_count": null,
   "id": "b3f0d8cf",
   "metadata": {
    "slideshow": {
     "slide_type": "fragment"
    },
    "tags": [
     "#36"
    ]
   },
   "outputs": [],
   "source": [
    "# careful not to confuse this with empty sets;\n",
    "# to initialize an empty set, use set())\n",
    "empty_dict = {}  \n",
    "print(empty_dict)"
   ]
  },
  {
   "cell_type": "code",
   "execution_count": null,
   "id": "631ee96b",
   "metadata": {
    "slideshow": {
     "slide_type": "fragment"
    },
    "tags": [
     "#36"
    ]
   },
   "outputs": [],
   "source": [
    "dict1 = {1: 'a', 2: 'b', 3: 'c'}\n",
    "print(dict1)"
   ]
  },
  {
   "cell_type": "code",
   "execution_count": null,
   "id": "d018912f",
   "metadata": {
    "slideshow": {
     "slide_type": "fragment"
    },
    "tags": [
     "#36"
    ]
   },
   "outputs": [],
   "source": [
    "dict2 = dict([(1, 'a'), (2, 'b'), (3, 'c')])\n",
    "print(dict2)"
   ]
  },
  {
   "cell_type": "code",
   "execution_count": null,
   "id": "e05587a1",
   "metadata": {
    "slideshow": {
     "slide_type": "fragment"
    },
    "tags": [
     "#36"
    ]
   },
   "outputs": [],
   "source": [
    "# only works if keys are strings\n",
    "dict3 = dict(a=1, b=2, c=3) \n",
    "print(dict3)"
   ]
  },
  {
   "cell_type": "code",
   "execution_count": null,
   "id": "635964a4",
   "metadata": {
    "slideshow": {
     "slide_type": "fragment"
    },
    "tags": [
     "#36"
    ]
   },
   "outputs": [],
   "source": [
    "# see that this doesn't work \n",
    "# because the keys are not strings\n",
    "dict4 = dict(1=a, 2=b, 3=c)\n",
    "# will get an error"
   ]
  },
  {
   "cell_type": "markdown",
   "id": "465214c6",
   "metadata": {
    "slideshow": {
     "slide_type": "slide"
    },
    "tags": [
     "#37"
    ]
   },
   "source": [
    "## Dictionaries, continued\n"
   ]
  },
  {
   "cell_type": "code",
   "execution_count": null,
   "id": "2ad52cc3",
   "metadata": {
    "slideshow": {
     "slide_type": "fragment"
    },
    "tags": [
     "#37"
    ]
   },
   "outputs": [],
   "source": [
    "# to refresh your memory, this what is in dict1\n",
    "print(dict1)"
   ]
  },
  {
   "cell_type": "code",
   "execution_count": null,
   "id": "e01fa162",
   "metadata": {
    "slideshow": {
     "slide_type": "fragment"
    },
    "tags": [
     "#37"
    ]
   },
   "outputs": [],
   "source": [
    "# add to dictionary:\n",
    "dict1[4] ='d'\n",
    "print(dict1)"
   ]
  },
  {
   "cell_type": "code",
   "execution_count": null,
   "id": "fc164eba",
   "metadata": {
    "scrolled": true,
    "slideshow": {
     "slide_type": "fragment"
    },
    "tags": [
     "#37"
    ]
   },
   "outputs": [],
   "source": [
    "# add to dictionary, but overwrite as key exists\n",
    "dict1[4] = 'e'\n",
    "print(dict1)"
   ]
  },
  {
   "cell_type": "code",
   "execution_count": null,
   "id": "a5657e10",
   "metadata": {
    "slideshow": {
     "slide_type": "fragment"
    },
    "tags": [
     "#37"
    ]
   },
   "outputs": [],
   "source": [
    "# add multiple key value pairs to dictionary\n",
    "dict1.update({5:'f', 6:'g'}) \n",
    "print(dict1)"
   ]
  },
  {
   "cell_type": "code",
   "execution_count": null,
   "id": "a1d5f3d3",
   "metadata": {
    "slideshow": {
     "slide_type": "fragment"
    },
    "tags": [
     "#37"
    ]
   },
   "outputs": [],
   "source": [
    "# remove a key value pair from dictionary\n",
    "dict1.pop(1)\n",
    "print(dict1)"
   ]
  },
  {
   "cell_type": "code",
   "execution_count": null,
   "id": "ef0240ad",
   "metadata": {
    "slideshow": {
     "slide_type": "fragment"
    },
    "tags": [
     "#37"
    ]
   },
   "outputs": [],
   "source": [
    "# can also use del to remove key value pair\n",
    "del dict1[2]\n",
    "# will give an error if you have already deleted it"
   ]
  },
  {
   "cell_type": "markdown",
   "id": "8a624af2",
   "metadata": {
    "slideshow": {
     "slide_type": "slide"
    },
    "tags": [
     "#38"
    ]
   },
   "source": [
    "## Basic dictionary manipulations\n",
    "\n",
    "Dictionaries don't have indices to reference, but they do have keys and values."
   ]
  },
  {
   "cell_type": "markdown",
   "id": "94e761c9",
   "metadata": {
    "slideshow": {
     "slide_type": "subslide"
    }
   },
   "source": [
    "To interact with dictionaries:"
   ]
  },
  {
   "cell_type": "code",
   "execution_count": null,
   "id": "c180583d",
   "metadata": {
    "slideshow": {
     "slide_type": "fragment"
    },
    "tags": [
     "#38"
    ]
   },
   "outputs": [],
   "source": [
    "dict1 = {1: 'a', 2: 'b', 3: 'c'}\n",
    "print(dict1[1])"
   ]
  },
  {
   "cell_type": "code",
   "execution_count": null,
   "id": "9ec79ac2",
   "metadata": {
    "slideshow": {
     "slide_type": "fragment"
    },
    "tags": [
     "#38"
    ]
   },
   "outputs": [],
   "source": [
    "print(dict1.keys())"
   ]
  },
  {
   "cell_type": "code",
   "execution_count": null,
   "id": "695c9c0b",
   "metadata": {
    "slideshow": {
     "slide_type": "fragment"
    },
    "tags": [
     "#38"
    ]
   },
   "outputs": [],
   "source": [
    "print(dict1.values())"
   ]
  },
  {
   "cell_type": "code",
   "execution_count": null,
   "id": "b0900baa",
   "metadata": {
    "slideshow": {
     "slide_type": "fragment"
    },
    "tags": [
     "#38"
    ]
   },
   "outputs": [],
   "source": [
    "dict1.get(4, \"I am a default value\")"
   ]
  },
  {
   "cell_type": "markdown",
   "id": "ea9c25d6",
   "metadata": {
    "slideshow": {
     "slide_type": "slide"
    },
    "tags": [
     "#38"
    ]
   },
   "source": [
    "There's a lot more you can do with these data structures. If you find yourself wondering if x data structure can do y thing, feel free to search for an answer. Often, there will be a solution!"
   ]
  },
  {
   "cell_type": "markdown",
   "id": "d4797d10",
   "metadata": {
    "slideshow": {
     "slide_type": "slide"
    },
    "tags": [
     "#39"
    ]
   },
   "source": [
    "## Flow Control\n",
    "\n",
    "for, while, if/else"
   ]
  },
  {
   "cell_type": "markdown",
   "id": "86666da3",
   "metadata": {
    "slideshow": {
     "slide_type": "slide"
    },
    "tags": [
     "#40"
    ]
   },
   "source": [
    "## For Loops\n",
    "\n",
    "For loops are very straightforward to implement."
   ]
  },
  {
   "cell_type": "markdown",
   "id": "b59f64f2",
   "metadata": {
    "slideshow": {
     "slide_type": "subslide"
    }
   },
   "source": [
    "To iterate over a list:"
   ]
  },
  {
   "cell_type": "code",
   "execution_count": null,
   "id": "204ec1f3",
   "metadata": {
    "slideshow": {
     "slide_type": "fragment"
    },
    "tags": [
     "#40"
    ]
   },
   "outputs": [],
   "source": [
    "things = ['apple', 'banana', 'cherry']\n",
    "for thing in things:\n",
    "    print(thing)"
   ]
  },
  {
   "cell_type": "markdown",
   "id": "eb2c06d5",
   "metadata": {
    "slideshow": {
     "slide_type": "slide"
    },
    "tags": [
     "#41"
    ]
   },
   "source": [
    "## An aside: scoping\n",
    "\n",
    "Code within indented blocks is known to be restricted in _scope_ to that block. That is, anything that happens within that block of code does not necessarily persist outside that block of code. We'll revisit this momentarily..."
   ]
  },
  {
   "cell_type": "markdown",
   "id": "f7942ac5",
   "metadata": {
    "slideshow": {
     "slide_type": "slide"
    },
    "tags": [
     "#42"
    ]
   },
   "source": [
    "## For Loops, continued\n",
    "\n",
    "This will go through every item in your list (or tuple or whatever) in order. If you also wanted to fetch indices, you'd use:"
   ]
  },
  {
   "cell_type": "code",
   "execution_count": null,
   "id": "1a3e9fba",
   "metadata": {
    "slideshow": {
     "slide_type": "fragment"
    },
    "tags": [
     "#42"
    ]
   },
   "outputs": [],
   "source": [
    "for idx, thing in enumerate(things):\n",
    "    print(idx, thing)"
   ]
  },
  {
   "cell_type": "markdown",
   "id": "2d28be1a",
   "metadata": {
    "slideshow": {
     "slide_type": "slide"
    },
    "tags": [
     "#43"
    ]
   },
   "source": [
    "## For Loops, continued\n",
    "\n",
    "- The `enumerate()` function is actually an _iterator_ that spits out a tuple consisting of (index, value) and assigns each to idx, name. This is called a **named tuple**.\n",
    "- The `for a in b` structure can be replaced with any generic construct (within reason). For a generic loop, you can do something like:"
   ]
  },
  {
   "cell_type": "code",
   "execution_count": null,
   "id": "8c2a2a8c",
   "metadata": {
    "slideshow": {
     "slide_type": "fragment"
    },
    "tags": [
     "#43"
    ]
   },
   "outputs": [],
   "source": [
    "for i in range(5):\n",
    "    print(i)"
   ]
  },
  {
   "cell_type": "markdown",
   "id": "93b9d7d3",
   "metadata": {
    "slideshow": {
     "slide_type": "slide"
    },
    "tags": [
     "#44"
    ]
   },
   "source": [
    "## An application of for loops: File I/O\n",
    "\n",
    "- File input/output (I/O) in python is conventionally done via the creation of a _context manager_. You can think of this (i.e. the file handle and its associated operations) as a block of code that executes for as long as you need that file to stay open.\n",
    "\n",
    "______\n",
    "\n",
    "\n",
    "```\n",
    "with open('file.txt', 'r') as f:\n",
    "    for line in f:\n",
    "        print(line)\n",
    "```\n",
    "\n",
    "______\n",
    "\n",
    "\n",
    "- The code runs in the context of the open file, and automatically closes the file when done.\n",
    "- This is an example of scoping. We'll have another example when scripting.\n"
   ]
  },
  {
   "cell_type": "markdown",
   "id": "05b72e93",
   "metadata": {
    "slideshow": {
     "slide_type": "slide"
    },
    "tags": [
     "#44"
    ]
   },
   "source": [
    "## File I/O continued (an aside)\n",
    "\n",
    "The first argument of `open()` is the filename. The second one (the mode) determines how the file gets opened.\n",
    "\n",
    "- Read the file, pass in \"r\". Read and write the file, pass in \"r+\"\n",
    "- Overwrite the file, pass in \"w\". Writing and reading the file, pass \"w+\" Overwrites the existing file if it already exists. \n",
    "- If you want to append to the file, pass in \"a\"\n",
    "\n",
    "______\n",
    "\n",
    "\n",
    "```\n",
    "with open('file.txt', 'r', encoding=\"utf-8\"): as f:\n",
    "    f.readlines(2) # Read in N # lines\n",
    "    for line in f: # Do something with each line\n",
    "        x = f.readline()\n",
    "```\n",
    "______\n",
    "\n",
    "______\n",
    "\n",
    "\n",
    "```\n",
    "import json, os\n",
    "with open('file.txt', 'w', encoding=\"utf-8\"): as f:\n",
    "    for x in range(100):\n",
    "        f.writeline(x)\n",
    "    # write all env vars to file\n",
    "    f.write(json.dumps(os.environ, indent=2))\n",
    "```\n",
    "______\n",
    "\n",
    "\n",
    "\n",
    "\n",
    "If you are getting unexpected input when performing file IO, try adding the following:\n",
    "\n",
    "______\n",
    "\n",
    "```\n",
    "with open('file.txt', 'r', encoding=\"utf-8\"): as f:​\n",
    "```\n",
    "______\n"
   ]
  },
  {
   "cell_type": "markdown",
   "id": "d54cbea5",
   "metadata": {
    "slideshow": {
     "slide_type": "slide"
    },
    "tags": [
     "#44"
    ]
   },
   "source": [
    "## While Loops\n",
    "\n",
    "Similar in function to for loops, while loops are used to iterate, and are useful if you don't know how long to iterate for (e.g. searching for convergence, etc.). A generic while loop looks like this:"
   ]
  },
  {
   "cell_type": "code",
   "execution_count": null,
   "id": "96c8e999",
   "metadata": {
    "slideshow": {
     "slide_type": "fragment"
    },
    "tags": [
     "#45"
    ]
   },
   "outputs": [],
   "source": [
    "toggle = True\n",
    "\n",
    "while toggle == True:\n",
    "    toggle = False\n",
    "    print(toggle)"
   ]
  },
  {
   "cell_type": "markdown",
   "id": "4a0022ba",
   "metadata": {
    "slideshow": {
     "slide_type": "fragment"
    },
    "tags": [
     "#45"
    ]
   },
   "source": [
    "A very simplistic example, but the above while loop runs one iteration, then exits because `toggle` is no longer `True`."
   ]
  },
  {
   "cell_type": "markdown",
   "id": "7a8faad1",
   "metadata": {
    "slideshow": {
     "slide_type": "slide"
    },
    "tags": [
     "#45"
    ]
   },
   "source": [
    "## If/elif/else\n",
    "\n",
    "`if/else` statements are useful when you need to handle different cases in your workflow. A generic if/elif/else statement structure:\n",
    "\n",
    "_____\n",
    "\n",
    "```\n",
    "# take some input (let's say, a number)​\n",
    "if input == 0:       #if input is zero​\n",
    "    print('zero')​\n",
    "elif input % 2 == 0: #if input is otherwise even​\n",
    "    print('even')​\n",
    "else:                #if input is odd​\n",
    "    print ('odd')\n",
    "```\n",
    "_____\n",
    "\n",
    "You may use as many elifs as you require to solve your problem."
   ]
  },
  {
   "cell_type": "markdown",
   "id": "13a92062",
   "metadata": {
    "slideshow": {
     "slide_type": "slide"
    },
    "tags": [
     "#48"
    ]
   },
   "source": [
    "## An aside: try/except\n",
    "\n",
    "Python has the interesting distinction of relatively lightweight exception handling. Exceptions are only computationally expensive if they trigger. For more information, [this page has a good primer on try/except](https://www.askpython.com/python/python-exception-handling) and [the Python documentation on try/except is located here.](https://docs.python.org/3/tutorial/errors.html)"
   ]
  },
  {
   "cell_type": "markdown",
   "id": "155d6b94-7754-410c-9fe5-35cd94d5adbb",
   "metadata": {
    "slideshow": {
     "slide_type": "slide"
    }
   },
   "source": [
    "## A few pertinent modules    \n",
    "    \n",
    "NumPy is the go-to module if you need to perform complex arithmetic or do matrix operations (manipulate data frames). It is much more efficient than using system Python utilities.\n",
    "\n",
    "SciPy has a bunch of interesting functions that automate various aspects of scientific computing, like statistics and higher-level mathematics. Most of these are callable in one line. ([documentation](http://docs.scipy.org/doc/), includes NumPy)\n",
    "\n",
    "Matplotlib is a basic plotting module. You can generate plots in real time (X11) or create them and write to files to view later. There is also a degree of customization afforded in plots. ([documentation](https://matplotlib.org/stable/users/index.html))\n",
    "\n",
    "A super quick overview of some examples from each module follows."
   ]
  },
  {
   "cell_type": "markdown",
   "id": "b317c98c-70b0-43e3-86b6-ea1e5c014425",
   "metadata": {
    "slideshow": {
     "slide_type": "slide"
    }
   },
   "source": [
    "### `scipy`"
   ]
  },
  {
   "cell_type": "code",
   "execution_count": null,
   "id": "5fa4aac0-99ac-421a-9530-d7e87d3ed018",
   "metadata": {
    "slideshow": {
     "slide_type": "fragment"
    }
   },
   "outputs": [],
   "source": [
    "from scipy import constants        # `from scipy import *` will not behave as expected\n",
    "print(constants.c)                 # speed of light\n",
    "from scipy.stats import norm\n",
    "# cumulative distribution function for normal continuous random variable\n",
    "print(norm.cdf(5, 0, 3))           # P(x<5) if X~N(0,3)"
   ]
  },
  {
   "cell_type": "markdown",
   "id": "94647fdf-3c92-4b04-918b-5b4e0c58d8aa",
   "metadata": {
    "slideshow": {
     "slide_type": "slide"
    }
   },
   "source": [
    "### `numpy`"
   ]
  },
  {
   "cell_type": "code",
   "execution_count": null,
   "id": "bb80d428-1d4b-4b16-a18f-3a1e6a6a677c",
   "metadata": {
    "slideshow": {
     "slide_type": "fragment"
    }
   },
   "outputs": [],
   "source": [
    "import numpy as np          # the general way; using `as` allows you to set an alias (if the name is too long to type)\n",
    "cvalues = [25.3, 24.8, 26.9, 23.9]    # a typical python list of Celcius values\n",
    "print(cvalues)\n",
    "C = np.array(cvalues)       # create a numpy array\n",
    "print(C)                    # note that they look identical\n",
    "print(C * 9 / 5 + 32)       # convert to Fahrenheit using scalar multiplication\n",
    "fvalues = [x*9/5 + 32 for x in cvalues]    # with a typical list, you need to loop over it and compute element-wise instead\n",
    "print(fvalues)              # same result, less efficient/readable"
   ]
  },
  {
   "cell_type": "markdown",
   "id": "ef500859-754d-4cb5-b030-9092be4411dc",
   "metadata": {
    "slideshow": {
     "slide_type": "subslide"
    }
   },
   "source": [
    "#### A brief look at arrays: NumPy data structures\n",
    "Note the formatting of the print below. This is indicative of the logic and illustrates why numpy is the preferred implementation of Python matrix operations. The SciPy documentation linked previously also includes NumPy documentation."
   ]
  },
  {
   "cell_type": "code",
   "execution_count": null,
   "id": "c76e58b4-6c07-49f9-a80f-b2f609d3cd1f",
   "metadata": {
    "slideshow": {
     "slide_type": "fragment"
    }
   },
   "outputs": [],
   "source": [
    ">>> nested_list = [[3.4, 8.7, 9.9], [1.1, -7.8, -0.7], [4.1, 12.3, 4.8]]      # a python nested list\n",
    "print(nested_list)\n",
    "A = np.array ([ [3.4, 8.7, 9.9], [1.1, -7.8, -0.7], [4.1, 12.3, 4.8]])    # a numpy array (matrix)\n",
    "print(A)"
   ]
  },
  {
   "cell_type": "markdown",
   "id": "0a4738b6-33e1-4761-8723-e54f15ea15b2",
   "metadata": {
    "slideshow": {
     "slide_type": "slide"
    }
   },
   "source": [
    "### `matplotlib`"
   ]
  },
  {
   "cell_type": "code",
   "execution_count": null,
   "id": "929803bf-d620-428b-a623-4e9766890c13",
   "metadata": {
    "slideshow": {
     "slide_type": "fragment"
    }
   },
   "outputs": [],
   "source": [
    "import matplotlib.pyplot as plt"
   ]
  },
  {
   "cell_type": "code",
   "execution_count": null,
   "id": "20ce05ba-ea55-4ed3-a3b3-2e8f2429d3cf",
   "metadata": {
    "slideshow": {
     "slide_type": "subslide"
    }
   },
   "outputs": [],
   "source": [
    "# the first line of code is a \"magic command\" from the iPython kernel:\n",
    "# https://ipython.readthedocs.io/en/stable/interactive/magics.html#magic-matplotlib\n",
    "# it \"set up matplotlib to work interactively\" and\n",
    "# allows the plot to render below the code block in the notebook.\n",
    "%matplotlib inline\n",
    "fig = plt.figure()\n",
    "plt.plot([1,2,3,4])             # this will output some memory address\n",
    "plt.ylabel('some numbers')  # another memory address\n",
    "# in other contexts, you'll want to use plt.show() to see your plot \n",
    "#plt.show()"
   ]
  },
  {
   "cell_type": "markdown",
   "id": "a17e15a1",
   "metadata": {
    "slideshow": {
     "slide_type": "slide"
    }
   },
   "source": [
    "Let's go through a (quick) full example with some fake data. We'll demo a rudimentary K-means clustering implementation using the above packages. Remember, the focus here is not on what the functions do (though they'll be defined), but the power that these packages hold together. If you have questions about the imported modules and functions leveraged, we recommend consulting the documentation (linked previously).\n",
    "\n",
    "The process for following example has been co-opted from https://www.tutorialspoint.com/scipy/scipy_cluster.htm, so if you'd like a bit more information about this specific code stack, feel free to look over there."
   ]
  },
  {
   "cell_type": "code",
   "execution_count": null,
   "id": "68de2438",
   "metadata": {
    "slideshow": {
     "slide_type": "subslide"
    }
   },
   "outputs": [],
   "source": [
    "# first, let's generate some data.\n",
    "from numpy import vstack,array\n",
    "from numpy.random import rand\n",
    "\n",
    "# data generation with three features\n",
    "data = vstack((rand(100,3) + array([.5,.5,.5]),rand(100,3)))\n",
    "print(data.shape) # gives \"shape\" of the numpy array\n",
    "                  # as this is a 2D array, it is the num rows x num columns\n",
    "print(data)"
   ]
  },
  {
   "cell_type": "code",
   "execution_count": null,
   "id": "395ee83d",
   "metadata": {
    "slideshow": {
     "slide_type": "subslide"
    }
   },
   "outputs": [],
   "source": [
    "# whiten the data\n",
    "# https://en.wikipedia.org/wiki/Whitening_transformation\n",
    "from scipy.cluster.vq import whiten\n",
    "\n",
    "data = whiten(data)\n",
    "print(data)"
   ]
  },
  {
   "cell_type": "code",
   "execution_count": null,
   "id": "5bd4544b",
   "metadata": {
    "slideshow": {
     "slide_type": "subslide"
    }
   },
   "outputs": [],
   "source": [
    "%matplotlib notebook\n",
    "\n",
    "# visualize the data:\n",
    "import matplotlib.pyplot as plt\n",
    "from mpl_toolkits.mplot3d import Axes3D\n",
    "\n",
    "fig = plt.figure()\n",
    "ax = fig.add_subplot(111, projection='3d')\n",
    "ax.scatter(data[:,0], data[:,1], data[:,2])"
   ]
  },
  {
   "cell_type": "code",
   "execution_count": null,
   "id": "7b8c8849",
   "metadata": {
    "slideshow": {
     "slide_type": "subslide"
    }
   },
   "outputs": [],
   "source": [
    "# perform k-means with 3 clusters\n",
    "from scipy.cluster.vq import kmeans\n",
    "\n",
    "#_ is a placeholder. kmeans returns 2 objects\n",
    "# we don't care about the second returned value here\n",
    "centroids,_ = kmeans(data,3)\n",
    "print(centroids)"
   ]
  },
  {
   "cell_type": "code",
   "execution_count": null,
   "id": "2df2433d",
   "metadata": {
    "slideshow": {
     "slide_type": "subslide"
    }
   },
   "outputs": [],
   "source": [
    "%matplotlib notebook\n",
    "\n",
    "# superimpose centroids/recreate plot\n",
    "fig2 = plt.figure()\n",
    "ax2 = fig2.add_subplot(111, projection='3d')\n",
    "ax2.scatter(data[:,0], data[:,1], data[:,2])\n",
    "ax2.scatter(centroids[:,0], centroids[:,1], centroids[:,2], s=300)"
   ]
  },
  {
   "cell_type": "code",
   "execution_count": null,
   "id": "50a7a79c",
   "metadata": {
    "scrolled": true,
    "slideshow": {
     "slide_type": "subslide"
    }
   },
   "outputs": [],
   "source": [
    "# distribute data to each cluster\n",
    "from scipy.cluster.vq import vq\n",
    "\n",
    "# using _ again to discard returned results we don't need\n",
    "assignments,_ = vq(data, centroids)\n",
    "print(assignments)"
   ]
  },
  {
   "cell_type": "code",
   "execution_count": null,
   "id": "c6ae13f8",
   "metadata": {
    "slideshow": {
     "slide_type": "subslide"
    }
   },
   "outputs": [],
   "source": [
    "%matplotlib notebook\n",
    "\n",
    "# regenerate the plot with clusters color-coded\n",
    "from matplotlib.colors import ListedColormap\n",
    "\n",
    "colors = ['red', 'green', 'blue'] # colors of 3 clusters\n",
    "\n",
    "fig3 = plt.figure()\n",
    "ax3 = fig3.add_subplot(111, projection='3d')\n",
    "ax3.scatter(data[:,0], data[:,1], data[:,2], c=assignments, cmap=ListedColormap(colors))\n",
    "ax3.scatter(centroids[:,0], centroids[:,1], centroids[:,2], marker='*', s=300, c=colors, cmap=ListedColormap(colors))"
   ]
  },
  {
   "cell_type": "markdown",
   "id": "02975bac",
   "metadata": {
    "slideshow": {
     "slide_type": "slide"
    }
   },
   "source": [
    "# Up Next: Object Oriented Programming\n",
    "\n",
    "- Please switch back to the powerpoint."
   ]
  }
 ],
 "metadata": {
  "celltoolbar": "Slideshow",
  "kernelspec": {
   "display_name": "Python 3 (ipykernel)",
   "language": "python",
   "name": "python3"
  },
  "language_info": {
   "codemirror_mode": {
    "name": "ipython",
    "version": 3
   },
   "file_extension": ".py",
   "mimetype": "text/x-python",
   "name": "python",
   "nbconvert_exporter": "python",
   "pygments_lexer": "ipython3",
   "version": "3.8.12"
  }
 },
 "nbformat": 4,
 "nbformat_minor": 5
}
